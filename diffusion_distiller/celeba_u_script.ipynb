{
 "cells": [
  {
   "cell_type": "markdown",
   "source": [
    "# Train the base model with 1024 diffusion steps"
   ],
   "metadata": {
    "collapsed": false,
    "pycharm": {
     "name": "#%% md\n"
    }
   }
  },
  {
   "cell_type": "code",
   "execution_count": null,
   "outputs": [],
   "source": [
    "#!python ./train.py --module celeba_u --name celeba --dname original --batch_size 1 --num_workers 4 --num_iters 150000"
   ],
   "metadata": {
    "collapsed": false,
    "pycharm": {
     "name": "#%%\n",
     "is_executing": true
    }
   }
  },
  {
   "cell_type": "markdown",
   "source": [
    "# Model distillation"
   ],
   "metadata": {
    "collapsed": false,
    "pycharm": {
     "name": "#%% md\n"
    }
   }
  },
  {
   "cell_type": "markdown",
   "source": [
    "## Distillate to 512 steps"
   ],
   "metadata": {
    "collapsed": false,
    "pycharm": {
     "name": "#%% md\n"
    }
   },
   "execution_count": 4
  },
  {
   "cell_type": "code",
   "source": [
    "!python ./distillate.py --module celeba_u --diffusion GaussianDiffusionDefault --name celeba --dname base_0 --base_checkpoint ./checkpoints/celeba/original/checkpoint.pt --batch_size 1 --num_workers 4 --num_iters 5000 --log_interval 5"
   ],
   "metadata": {
    "collapsed": false,
    "pycharm": {
     "name": "#%%\n",
     "is_executing": true
    }
   },
   "execution_count": null,
   "outputs": []
  },
  {
   "cell_type": "markdown",
   "source": [
    "## Distillate to 256 steps"
   ],
   "metadata": {
    "collapsed": false
   }
  },
  {
   "cell_type": "code",
   "execution_count": null,
   "outputs": [],
   "source": [
    "!python ./distillate.py --module celeba_u --diffusion GaussianDiffusionDefault --name celeba --dname base_1 --base_checkpoint ./checkpoints/celeba/base_0/checkpoint.pt --batch_size 1 --num_workers 4 --num_iters 5000 --log_interval 5"
   ],
   "metadata": {
    "collapsed": false,
    "pycharm": {
     "name": "#%%\n",
     "is_executing": true
    }
   }
  },
  {
   "cell_type": "markdown",
   "source": [
    "## Distillate to 128 steps"
   ],
   "metadata": {
    "collapsed": false
   }
  },
  {
   "cell_type": "code",
   "source": [
    "!python ./distillate.py --module celeba_u --diffusion GaussianDiffusionDefault --name celeba --dname base_2 --base_checkpoint ./checkpoints/celeba/base_1/checkpoint.pt --batch_size 1 --num_workers 4 --num_iters 5000 --log_interval 5"
   ],
   "metadata": {
    "collapsed": false,
    "pycharm": {
     "name": "#%%\n",
     "is_executing": true
    }
   },
   "execution_count": null,
   "outputs": []
  },
  {
   "cell_type": "markdown",
   "source": [
    "## Distillate to 64 steps"
   ],
   "metadata": {
    "collapsed": false
   }
  },
  {
   "cell_type": "code",
   "source": [
    "!python ./distillate.py --module celeba_u --diffusion GaussianDiffusionDefault --name celeba --dname base_3 --base_checkpoint ./checkpoints/celeba/base_2/checkpoint.pt --batch_size 1 --num_workers 4 --num_iters 5000 --log_interval 5"
   ],
   "metadata": {
    "collapsed": false,
    "pycharm": {
     "name": "#%%\n",
     "is_executing": true
    }
   },
   "execution_count": null,
   "outputs": []
  },
  {
   "cell_type": "markdown",
   "source": [
    "## Distillate to 32 steps"
   ],
   "metadata": {
    "collapsed": false
   }
  },
  {
   "cell_type": "code",
   "source": [
    "!python ./distillate.py --module celeba_u --diffusion GaussianDiffusionDefault --name celeba --dname base_4 --base_checkpoint ./checkpoints/celeba/base_3/checkpoint.pt --batch_size 1 --num_workers 4 --num_iters 10000 --log_interval 5"
   ],
   "metadata": {
    "collapsed": false,
    "pycharm": {
     "name": "#%%\n",
     "is_executing": true
    }
   },
   "execution_count": null,
   "outputs": []
  },
  {
   "cell_type": "markdown",
   "source": [
    "## Distillate to 16 steps"
   ],
   "metadata": {
    "collapsed": false
   }
  },
  {
   "cell_type": "code",
   "source": [
    "!python ./distillate.py --module celeba_u --diffusion GaussianDiffusionDefault --name celeba --dname base_5 --base_checkpoint ./checkpoints/celeba/base_4/checkpoint.pt --batch_size 1 --num_workers 4 --num_iters 10000 --log_interval 5"
   ],
   "metadata": {
    "collapsed": false,
    "pycharm": {
     "name": "#%%\n",
     "is_executing": true
    }
   },
   "execution_count": null,
   "outputs": []
  },
  {
   "cell_type": "markdown",
   "source": [
    "## Distillate to 8 steps"
   ],
   "metadata": {
    "collapsed": false
   }
  },
  {
   "cell_type": "code",
   "execution_count": null,
   "outputs": [],
   "source": [
    "!python ./distillate.py --module celeba_u --diffusion GaussianDiffusionDefault --name celeba --dname base_6 --base_checkpoint ./checkpoints/celeba/base_5/checkpoint.pt --batch_size 1 --num_workers 4 --num_iters 10000 --log_interval 5"
   ],
   "metadata": {
    "collapsed": false,
    "pycharm": {
     "name": "#%%\n",
     "is_executing": true
    }
   }
  },
  {
   "cell_type": "markdown",
   "source": [
    "# Image generation"
   ],
   "metadata": {
    "collapsed": false,
    "pycharm": {
     "name": "#%% md\n"
    }
   }
  },
  {
   "cell_type": "code",
   "execution_count": 9,
   "outputs": [
    {
     "name": "stdout",
     "output_type": "stream",
     "text": [
      "Model loaded.\r\n",
      "8it [00:00, 10.28it/s]\r\n",
      "Finished.\r\n"
     ]
    }
   ],
   "source": [
    "!python ./sample.py --out_file ./images/celeba_u_6.png --module celeba_u --checkpoint ./checkpoints/celeba/base_6/checkpoint.pt --batch_size 1"
   ],
   "metadata": {
    "collapsed": false,
    "pycharm": {
     "name": "#%%\n"
    }
   }
  },
  {
   "cell_type": "code",
   "execution_count": 8,
   "outputs": [
    {
     "name": "stdout",
     "output_type": "stream",
     "text": [
      "Model loaded.\r\n",
      "8it [00:00,  9.48it/s]\r\n",
      "Finished.\r\n"
     ]
    }
   ],
   "source": [
    "!python ./sample.py --out_file ./images/celeba_u_6_clipped.png --module celeba_u --checkpoint ./checkpoints/celeba/base_6/checkpoint.pt --batch_size 1 --clipped_sampling True --clipping_value 1.2"
   ],
   "metadata": {
    "collapsed": false,
    "pycharm": {
     "name": "#%%\n"
    }
   }
  },
  {
   "cell_type": "code",
   "execution_count": 6,
   "outputs": [
    {
     "name": "stdout",
     "output_type": "stream",
     "text": [
      "Model loaded.\r\n",
      "1024it [01:40, 10.14it/s]\r\n",
      "Finished.\r\n"
     ]
    }
   ],
   "source": [
    "!python ./sample.py --out_file ./images/celeba_original_ts1.png --module celeba_u --time_scale 1 --checkpoint ./checkpoints/celeba/original/checkpoint.pt --batch_size 1"
   ],
   "metadata": {
    "collapsed": false,
    "pycharm": {
     "name": "#%%\n"
    }
   }
  },
  {
   "cell_type": "code",
   "execution_count": null,
   "outputs": [],
   "source": [
    "# export to script\n",
    "!jupyter nbconvert --to script celeba_u_script.ipynb --output celeba_u_script_converted"
   ],
   "metadata": {
    "collapsed": false,
    "pycharm": {
     "name": "#%%\n",
     "is_executing": true
    }
   }
  },
  {
   "cell_type": "code",
   "execution_count": null,
   "outputs": [],
   "source": [],
   "metadata": {
    "collapsed": false,
    "pycharm": {
     "name": "#%%\n"
    }
   }
  }
 ],
 "metadata": {
  "kernelspec": {
   "name": "python38264bit9d0d25178abd49d88556230b696c8b15",
   "language": "python",
   "display_name": "Python 3.8.2 64-bit"
  },
  "language_info": {
   "codemirror_mode": {
    "name": "ipython",
    "version": 2
   },
   "file_extension": ".py",
   "mimetype": "text/x-python",
   "name": "python",
   "nbconvert_exporter": "python",
   "pygments_lexer": "ipython2",
   "version": "2.7.6"
  }
 },
 "nbformat": 4,
 "nbformat_minor": 0
}